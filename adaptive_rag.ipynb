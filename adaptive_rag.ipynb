{
 "cells": [
  {
   "cell_type": "markdown",
   "id": "d9c81f89",
   "metadata": {},
   "source": [
    "### Adaptive RAG implementation with LangChain & LangGraph"
   ]
  },
  {
   "cell_type": "code",
   "execution_count": null,
   "id": "bd34599f",
   "metadata": {},
   "outputs": [],
   "source": [
    "import os\n",
    "\n",
    "os.environ['LANGSMITH_TRACING'] = \"true\"\n",
    "os.environ[\"LANGSMITH_PROJECT\"] = \"RAG_techniques\"\n",
    "os.environ[\"LANGSMITH_API_KEY\"] = \"Enter your LangSmith API Key\"\n",
    "os.environ['TAVILY_API_KEY'] = \"Enter your Tavily API Key\""
   ]
  },
  {
   "cell_type": "code",
   "execution_count": null,
   "id": "2c666fe4",
   "metadata": {},
   "outputs": [
    {
     "name": "stderr",
     "output_type": "stream",
     "text": [
      "USER_AGENT environment variable not set, consider setting it to identify your requests.\n"
     ]
    }
   ],
   "source": [
    "# This code sample is completed referencing Mr. Lance Matrin's deep dive for building RAG systems\n",
    "\n",
    "from langchain_ollama import ChatOllama\n",
    "from langchain_ollama import OllamaEmbeddings\n",
    "from langchain_community.document_loaders.web_base import WebBaseLoader\n",
    "from langchain.text_splitter import RecursiveCharacterTextSplitter\n",
    "from langchain.vectorstores import Chroma\n",
    "from langchain_tavily import TavilySearch\n",
    "from langchain_core.documents import Document\n",
    "\n",
    "from typing import List, Optional"
   ]
  },
  {
   "cell_type": "code",
   "execution_count": 3,
   "id": "aeec693b",
   "metadata": {},
   "outputs": [],
   "source": [
    "# define ollama LLM & embedding model\n",
    "llm = ChatOllama(model= \"mistral:latest\", temperature= 0)\n",
    "embedding_model = OllamaEmbeddings(model= \"nomic-embed-text:latest\")"
   ]
  },
  {
   "cell_type": "code",
   "execution_count": 4,
   "id": "b6126344",
   "metadata": {},
   "outputs": [],
   "source": [
    "# data sources\n",
    "urls = [\n",
    "    \"https://lilianweng.github.io/posts/2023-06-23-agent/\",\n",
    "    \"https://lilianweng.github.io/posts/2023-03-15-prompt-engineering/\",\n",
    "    \"https://lilianweng.github.io/posts/2023-10-25-adv-attack-llm/\",\n",
    "]\n",
    "\n",
    "docs = [WebBaseLoader(url).load() for url in urls]\n",
    "docs = [item for doc in docs for item in doc]"
   ]
  },
  {
   "cell_type": "code",
   "execution_count": 5,
   "id": "afa46a46",
   "metadata": {},
   "outputs": [],
   "source": [
    "# uses the tiktoken tokenizer by OpenAI to tokenize and count the length of chunks\n",
    "text_splitter = RecursiveCharacterTextSplitter.from_tiktoken_encoder(chunk_size= 512, chunk_overlap= 8)\n",
    "doc_chunks = text_splitter.split_documents(docs)"
   ]
  },
  {
   "cell_type": "code",
   "execution_count": 6,
   "id": "ec34f259",
   "metadata": {},
   "outputs": [],
   "source": [
    "# define chroma vectorstore\n",
    "vectorstore = Chroma.from_documents(documents= doc_chunks, \n",
    "                                    embedding= embedding_model,\n",
    "                                    collection_name= \"adaptive-rag\")"
   ]
  },
  {
   "cell_type": "code",
   "execution_count": 7,
   "id": "8114c82a",
   "metadata": {},
   "outputs": [],
   "source": [
    "# explore the various search algorithms\n",
    "retriever = vectorstore.as_retriever()"
   ]
  },
  {
   "cell_type": "code",
   "execution_count": 8,
   "id": "ae361c90",
   "metadata": {},
   "outputs": [
    {
     "data": {
      "text/plain": [
       "[Document(metadata={'source': 'https://lilianweng.github.io/posts/2023-03-15-prompt-engineering/', 'description': 'Prompt Engineering, also known as In-Context Prompting, refers to methods for how to communicate with LLM to steer its behavior for desired outcomes without updating the model weights. It is an empirical science and the effect of prompt engineering methods can vary a lot among models, thus requiring heavy experimentation and heuristics.\\nThis post only focuses on prompt engineering for autoregressive language models, so nothing with Cloze tests, image generation or multimodality models. At its core, the goal of prompt engineering is about alignment and model steerability. Check my previous post on controllable text generation.', 'title': \"Prompt Engineering | Lil'Log\", 'language': 'en'}, page_content=\"References\\n\\n\\n\\n\\n\\nPrompt Engineering, also known as In-Context Prompting, refers to methods for how to communicate with LLM to steer its behavior for desired outcomes without updating the model weights. It is an empirical science and the effect of prompt engineering methods can vary a lot among models, thus requiring heavy experimentation and heuristics.\\nThis post only focuses on prompt engineering for autoregressive language models, so nothing with Cloze tests, image generation or multimodality models. At its core, the goal of prompt engineering is about alignment and model steerability. Check my previous post on controllable text generation.\\n[My personal spicy take] In my opinion, some prompt engineering papers are not worthy 8 pages long, since those tricks can be explained in one or a few sentences and the rest is all about benchmarking. An easy-to-use and shared benchmark infrastructure should be more beneficial to the community. Iterative prompting or external tool use would not be trivial to set up. Also non-trivial to align the whole research community to adopt it.\\nBasic Prompting#\\nZero-shot and few-shot learning are two most basic approaches for prompting the model, pioneered by many LLM papers and commonly used for benchmarking LLM performance.\\nZero-Shot#\\nZero-shot learning is to simply feed the task text to the model and ask for results.\\n(All the sentiment analysis examples are from SST-2)\\nText: i'll bet the video game is a lot more fun than the film.\\nSentiment:\\nFew-shot#\\nFew-shot learning presents a set of high-quality demonstrations, each consisting of both input and desired output, on the target task. As the model first sees good examples, it can better understand human intention and criteria for what kinds of answers are wanted. Therefore, few-shot learning often leads to better performance than zero-shot. However, it comes at the cost of more token consumption and may hit the context length limit when input and output text are long.\\nText: (lawrence bounces) all over the stage, dancing, running, sweating, mopping his face and generally displaying the wacky talent that brought him fame in the first place.\\nSentiment: positive\"),\n",
       " Document(metadata={'title': \"Prompt Engineering | Lil'Log\", 'source': 'https://lilianweng.github.io/posts/2023-03-15-prompt-engineering/', 'description': 'Prompt Engineering, also known as In-Context Prompting, refers to methods for how to communicate with LLM to steer its behavior for desired outcomes without updating the model weights. It is an empirical science and the effect of prompt engineering methods can vary a lot among models, thus requiring heavy experimentation and heuristics.\\nThis post only focuses on prompt engineering for autoregressive language models, so nothing with Cloze tests, image generation or multimodality models. At its core, the goal of prompt engineering is about alignment and model steerability. Check my previous post on controllable text generation.', 'language': 'en'}, page_content=\"Prompt Engineering | Lil'Log\\n\\n\\n\\n\\n\\n\\n\\n\\n\\n\\n\\n\\n\\n\\n\\n\\n\\n\\n\\n\\n\\n\\n\\n\\n\\n\\n\\n\\n\\n\\n\\n\\n\\n\\n\\n\\n\\n\\n\\nLil'Log\\n\\n\\n\\n\\n\\n\\n\\n\\n\\n\\n\\n\\n\\n\\n\\n\\n\\n|\\n\\n\\n\\n\\n\\n\\nPosts\\n\\n\\n\\n\\nArchive\\n\\n\\n\\n\\nSearch\\n\\n\\n\\n\\nTags\\n\\n\\n\\n\\nFAQ\\n\\n\\n\\n\\n\\n\\n\\n\\n\\n      Prompt Engineering\\n    \\nDate: March 15, 2023  |  Estimated Reading Time: 21 min  |  Author: Lilian Weng\\n\\n\\n \\n\\n\\nTable of Contents\\n\\n\\n\\nBasic Prompting\\n\\nZero-Shot\\n\\nFew-shot\\n\\nTips for Example Selection\\n\\nTips for Example Ordering\\n\\n\\n\\nInstruction Prompting\\n\\nSelf-Consistency Sampling\\n\\nChain-of-Thought (CoT)\\n\\nTypes of CoT prompts\\n\\nTips and Extensions\\n\\n\\nAutomatic Prompt Design\\n\\nAugmented Language Models\\n\\nRetrieval\\n\\nProgramming Language\\n\\nExternal APIs\\n\\n\\nCitation\\n\\nUseful Resources\\n\\nReferences\"),\n",
       " Document(metadata={'title': \"Prompt Engineering | Lil'Log\", 'language': 'en', 'source': 'https://lilianweng.github.io/posts/2023-03-15-prompt-engineering/', 'description': 'Prompt Engineering, also known as In-Context Prompting, refers to methods for how to communicate with LLM to steer its behavior for desired outcomes without updating the model weights. It is an empirical science and the effect of prompt engineering methods can vary a lot among models, thus requiring heavy experimentation and heuristics.\\nThis post only focuses on prompt engineering for autoregressive language models, so nothing with Cloze tests, image generation or multimodality models. At its core, the goal of prompt engineering is about alignment and model steerability. Check my previous post on controllable text generation.'}, page_content='Or\\n@article{weng2023prompt,\\n  title   = \"Prompt Engineering\",\\n  author  = \"Weng, Lilian\",\\n  journal = \"lilianweng.github.io\",\\n  year    = \"2023\",\\n  month   = \"Mar\",\\n  url     = \"https://lilianweng.github.io/posts/2023-03-15-prompt-engineering/\"\\n}\\nUseful Resources#\\n\\nOpenAI Cookbook has many in-depth examples for how to utilize LLM efficiently.\\nLangChain, a library for combining language models with other components to build applications.\\nPrompt Engineering Guide repo contains a pretty comprehensive collection of education materials on prompt engineering.\\nlearnprompting.org\\nPromptPerfect\\nSemantic Kernel'),\n",
       " Document(metadata={'title': \"Prompt Engineering | Lil'Log\", 'language': 'en', 'source': 'https://lilianweng.github.io/posts/2023-03-15-prompt-engineering/', 'description': 'Prompt Engineering, also known as In-Context Prompting, refers to methods for how to communicate with LLM to steer its behavior for desired outcomes without updating the model weights. It is an empirical science and the effect of prompt engineering methods can vary a lot among models, thus requiring heavy experimentation and heuristics.\\nThis post only focuses on prompt engineering for autoregressive language models, so nothing with Cloze tests, image generation or multimodality models. At its core, the goal of prompt engineering is about alignment and model steerability. Check my previous post on controllable text generation.'}, page_content='Self-Ask (Press et al. 2022) is a method to repeatedly prompt the model to ask following-up questions to construct the thought process iteratively. Follow-up questions can be answered by search engine results. Similarly, IRCoT (Interleaving Retrieval CoT; Trivedi et al. 2022) and ReAct (Reason + Act; Yao et al. 2023) combines iterative CoT prompting with queries to Wikipedia APIs to search for relevant entities and content and then add it back into the context.\\n\\n\\n\\n\\nHow Self-Ask works with external search queries.(Image source: Press et al. 2022).\\n\\n\\nTree of Thoughts (Yao et al. 2023) extends CoT by exploring multiple reasoning possibilities at each step. It first decomposes the problem into multiple thought steps and generates multiple thoughts per step, essentially creating a tree structure. The search process can be BFS or DFS while each state is evaluated by a classifier (via a prompt) or majority vote.\\n\\n\\n\\nHow Self-Ask works with external search queries.(Image source: Yao et al. 2022).\\n\\nAutomatic Prompt Design#\\nPrompt is a sequence of prefix tokens that increase the probability of getting  desired output given input. Therefore we can treat them as trainable parameters and optimize them directly on the embedding space via gradient descent, such as AutoPrompt (Shin et al., 2020, Prefix-Tuning (Li & Liang (2021)), P-tuning (Liu et al. 2021) and Prompt-Tuning (Lester et al. 2021). This section in my “Controllable Neural Text Generation” post has a good coverage of them. The trend from AutoPrompt to Prompt-Tuning is that the setup gets gradually simplified.\\nAPE (Automatic Prompt Engineer; Zhou et al. 2022) is a method to search over a pool of model-generated instruction candidates and then filters the candidate set according to a chosen score function to ultimately choose the best candidate with highest score.\\n\\n\\nPrompt LLM to generate instruction candidates based on a small set of demonstrations in the form of input-output pairs. E.g. {{Given desired input-output pairs}}\\\\n\\\\nThe instruction is.')]"
      ]
     },
     "execution_count": 8,
     "metadata": {},
     "output_type": "execute_result"
    }
   ],
   "source": [
    "# the retriever can be tested this way!\n",
    "retriever.invoke(\"What is prompt engineering?\")"
   ]
  },
  {
   "cell_type": "code",
   "execution_count": 8,
   "id": "3f4a48d9",
   "metadata": {},
   "outputs": [],
   "source": [
    "# let's define query routing mechanism using Pydantic!\n",
    "from pydantic import BaseModel, Field\n",
    "\n",
    "class WebSearch(BaseModel):\n",
    "    \"\"\"This is the tool to perform internet based search based on the input query\n",
    "\n",
    "       Input Arguments: \n",
    "                query: A string that represents the search topic\n",
    "\n",
    "    \"\"\"\n",
    "    search_query: str = Field(description= \"A string that represents the query to be searched on the web\")\n",
    "\n",
    "\n",
    "class VectorStore(BaseModel):\n",
    "    \"\"\"This tool is used to perform similarity search of a query on a set of embedded document chunks. \n",
    "       The emebedded doc chunks contain information about agents, prompt engineering and adverserial attacks\n",
    "       \n",
    "       Input Arguments:\n",
    "            query: A query that represents the topic/document to perform similairty search against\"\"\"\n",
    "    \n",
    "    search_query: str = Field(description= \"A string that represents the query to be searched against the vectorstore\")\n",
    "\n",
    "\n",
    "tools = [WebSearch, VectorStore]\n",
    "llm_with_tools = llm.bind_tools(tools)"
   ]
  },
  {
   "cell_type": "code",
   "execution_count": 9,
   "id": "8819f1d6",
   "metadata": {},
   "outputs": [],
   "source": [
    "# let's define an  agent that performs the routing \n",
    "from langchain.prompts import ChatPromptTemplate\n",
    "from langchain_core.runnables import RunnablePassthrough\n",
    "from langchain_core.output_parsers.string import StrOutputParser\n",
    "\n",
    "system_temp = \"\"\"You are a helpful assistant with tools at your disposal to perform tasks. \n",
    "                 Internet Search and VectorStore search are the tools available to you.\n",
    "                 If you are unsure about the answer, say you don't know\"\"\"\n",
    "\n",
    "user_temp = \"\"\"Understand the given question and generate appropriate response using tools.\n",
    "               Question: {question}\n",
    "                \"\"\"\n",
    "prompt = ChatPromptTemplate([(\"system\", system_temp),\n",
    "                             (\"human\", user_temp)])\n",
    "\n",
    "\n",
    "router_chain = (\n",
    "    {\"question\": RunnablePassthrough()} \n",
    "    | prompt\n",
    "    | llm_with_tools)"
   ]
  },
  {
   "cell_type": "code",
   "execution_count": 10,
   "id": "506d04ac",
   "metadata": {},
   "outputs": [],
   "source": [
    "# let's define a document grader that decides if a specific document is relevant to the query or not!\n",
    "\n",
    "class DocGrader(BaseModel):\n",
    "\n",
    "    \"\"\"This schema is used to grade documents and return a binary response: yes or no indicating the relevance\"\"\"\n",
    "    response: str = Field(description= \"field indicating the relevance value of the document with the query\")\n",
    "\n",
    "\n",
    "template = \"\"\"You are given a document, your task is to only answer if the given question is relevant to the document in a binary fasion (yes or no).\n",
    "        yes means the document is relevant and no means it is not.\n",
    "         Question:{question}\n",
    "         Document:{document}\"\"\"\n",
    "\n",
    "prompt = ChatPromptTemplate.from_template(template)\n",
    "grader_llm = llm.with_structured_output(DocGrader)\n",
    "grader_chain = (prompt | grader_llm)    "
   ]
  },
  {
   "cell_type": "code",
   "execution_count": 11,
   "id": "4fa08093",
   "metadata": {},
   "outputs": [],
   "source": [
    "# let's define generation using simple rag!\n",
    "\n",
    "template = \"\"\"Answer the question at the end based on the context given to you.\n",
    "              Context:{context}\n",
    "              Question:{question}\"\"\"\n",
    "\n",
    "prompt = ChatPromptTemplate.from_template(template)\n",
    "\n",
    "generation_chain = (prompt | llm | StrOutputParser())"
   ]
  },
  {
   "cell_type": "code",
   "execution_count": 12,
   "id": "a8495dc2",
   "metadata": {},
   "outputs": [],
   "source": [
    "# define LLM fallback - if no tools are called used the parametric knowledge of the LLM to generate answer\n",
    "\n",
    "template = \"\"\"Given a question, answer it based purely on your intrinsic knowledge!.\n",
    "         Question:{question}\"\"\"\n",
    "\n",
    "prompt = ChatPromptTemplate.from_template(template)\n",
    "fallback_chain = (prompt | llm | StrOutputParser())    "
   ]
  },
  {
   "cell_type": "code",
   "execution_count": 13,
   "id": "d8fae0ec",
   "metadata": {},
   "outputs": [],
   "source": [
    "# let's build a chain to see if the generated responses have any hallucinations!\n",
    "\n",
    "class HallucinationGrader(BaseModel):\n",
    "\n",
    "    \"\"\"This schema is used to grade generations and return a binary response: yes or no indicating the presence of hallucinations\"\"\"\n",
    "    response: str = Field(description= \"field indicating the presence or absence of hallucinations\")\n",
    "\n",
    "\n",
    "template = \"\"\"You are an expert evaluator who test for hallucinations. Given a generation and reference documents, \n",
    "              your task is to check if the generation is based on the reference docs or not. Only answer in a binary-manner: yes or no .\n",
    "              yes means there are hallucinations and no means there aren't\n",
    "            Relevant doc:{document}\n",
    "            Generation:{generation}\"\"\"\n",
    "\n",
    "prompt = ChatPromptTemplate.from_template(template)\n",
    "check_hallucination_llm = llm.with_structured_output(HallucinationGrader)\n",
    "hallucination_chain = (prompt | check_hallucination_llm)    "
   ]
  },
  {
   "cell_type": "code",
   "execution_count": 14,
   "id": "a17bf28d",
   "metadata": {},
   "outputs": [],
   "source": [
    "# let's define a answer grade to see if the generation answers the question!\n",
    "\n",
    "class AnswerGrader(BaseModel):\n",
    "\n",
    "    \"\"\"This schema is used to grade generations and return a binary response: yes or no indicating the if the generation answers the question\"\"\"\n",
    "    response: str = Field(description= \"field indicating the if the generation is relevant to the question or not\")\n",
    "\n",
    "\n",
    "template = \"\"\"You are an expert evaluator who test for generation relevance. Given a generation and query, \n",
    "              your task is to check if the generation answers the question or not. Only answer in a binary-manner: yes or no .\n",
    "         Question:{question}\n",
    "         Generation:{generation}\"\"\"\n",
    "\n",
    "prompt = ChatPromptTemplate.from_template(template)\n",
    "grade_answer_llm = llm.with_structured_output(AnswerGrader)\n",
    "grade_answer_chain = (prompt | grade_answer_llm)    "
   ]
  },
  {
   "cell_type": "code",
   "execution_count": 15,
   "id": "d699d9ac",
   "metadata": {},
   "outputs": [],
   "source": [
    "# state schema of the graph\n",
    "class StateSchema(BaseModel):\n",
    "\n",
    "    question: str\n",
    "    documents: Optional[List[Document]] = None\n",
    "    generation: Optional[str] = None"
   ]
  },
  {
   "cell_type": "code",
   "execution_count": 16,
   "id": "a9fc7789",
   "metadata": {},
   "outputs": [],
   "source": [
    "# let's define the methods that will act as the nodes in langgrapgh graph based on the graph schema\n",
    "\n",
    "def web_search(state: StateSchema):\n",
    "    \n",
    "    top_hits = list()\n",
    "    question = state.question\n",
    "    \n",
    "    web_search_tool = TavilySearch(max_results= 2)\n",
    "    response = web_search_tool.invoke(question)\n",
    "    \n",
    "    for result in response['results']:\n",
    "        top_hits.append(Document(result['content']))\n",
    "\n",
    "    return {\"documents\": top_hits}\n",
    "\n",
    "\n",
    "def vectordb(state: StateSchema):\n",
    "\n",
    "    question = state.question\n",
    "    relevant_docs = retriever.get_relevant_documents(question)\n",
    "    \n",
    "    return {\"documents\": relevant_docs}\n",
    "\n",
    "\n",
    "def llm_fallback(state: StateSchema):\n",
    "\n",
    "    question = state.question\n",
    "\n",
    "    response = fallback_chain.invoke({\"question\": question})\n",
    "\n",
    "    return {\"generation\": response}    "
   ]
  },
  {
   "cell_type": "code",
   "execution_count": 17,
   "id": "e56fdd9f",
   "metadata": {},
   "outputs": [],
   "source": [
    "def generate(state: StateSchema):\n",
    "    \n",
    "    question = state.question\n",
    "    context = state.documents\n",
    "\n",
    "    response = generation_chain.invoke({\"question\": question, \"context\": context})\n",
    "\n",
    "    return {\"generation\": response}"
   ]
  },
  {
   "cell_type": "code",
   "execution_count": 18,
   "id": "ecf992dd",
   "metadata": {},
   "outputs": [],
   "source": [
    "def query_router(state: StateSchema):\n",
    "    \n",
    "    question = state.question\n",
    "    response = router_chain.invoke(question)\n",
    "    \n",
    "    if hasattr(response, \"tool_calls\") and len(response.tool_calls) >0:\n",
    "        for tool_call in response.tool_calls:\n",
    "            if (tool_call[\"name\"].lower() == \"websearch\"):\n",
    "                print(\"web-search invoked!\")\n",
    "                return \"to_websearch\"\n",
    "            else:\n",
    "                print(\"using the vectorstore...\")\n",
    "                return \"to_vectorstore\"\n",
    "\n",
    "    print(\"My parameters to the rescue, executing fallback!\")        \n",
    "    return \"to_fallback\"\n",
    "\n",
    "\n",
    "def isRetRelevant(state: StateSchema):\n",
    "\n",
    "    question = state.question\n",
    "    context = state.documents\n",
    "\n",
    "    for doc in context:\n",
    "        response = grader_chain.invoke({\"question\": question, \"document\": doc.page_content})\n",
    "        if response.response.lower() == \"yes\":\n",
    "            return \"to_generate\"\n",
    "            \n",
    "    return \"to_websearch\"        \n",
    "\n",
    "def isAnsRelevant(state: StateSchema):\n",
    "\n",
    "    question = state.question\n",
    "    generation = state.generation\n",
    "\n",
    "    response = grade_answer_chain.invoke({\"question\": question, \"generation\": generation})\n",
    "\n",
    "    if response.response.lower() == \"yes\":\n",
    "        return \"exit\"\n",
    "    \n",
    "    return \"to_websearch\"     \n",
    "\n",
    "def has_hallucinations(state: StateSchema):\n",
    "    \n",
    "    generation = state.generation\n",
    "    context = state.documents\n",
    "\n",
    "    for doc in context:\n",
    "        response = hallucination_chain.invoke({\"generation\": generation, \"document\": doc.page_content})\n",
    "        if response.response.lower() == \"yes\":\n",
    "            return \"to_generate\"\n",
    "    \n",
    "    return isAnsRelevant(state)"
   ]
  },
  {
   "cell_type": "code",
   "execution_count": 19,
   "id": "b68b9aad",
   "metadata": {},
   "outputs": [
    {
     "data": {
      "image/png": "[encoded data removed]",
      "text/plain": [
       "<langgraph.graph.state.CompiledStateGraph object at 0x000002779D5ECD40>"
      ]
     },
     "execution_count": 19,
     "metadata": {},
     "output_type": "execute_result"
    }
   ],
   "source": [
    "# let's define the graph - define nodes and add edges!\n",
    "\n",
    "from langgraph.graph import StateGraph, START, END\n",
    "\n",
    "graph = StateGraph(StateSchema)\n",
    "\n",
    "graph.add_node(\"generate\", generate)\n",
    "graph.add_node(\"fallback\", llm_fallback)\n",
    "graph.add_node(\"vectorstore\", vectordb)\n",
    "graph.add_node(\"websearch\", web_search)\n",
    "\n",
    "graph.add_conditional_edges(\n",
    "    START, \n",
    "    query_router,\n",
    "    {\n",
    "        \"to_websearch\": \"websearch\",\n",
    "        \"to_fallback\": \"fallback\",\n",
    "        \"to_vectorstore\": \"vectorstore\"    \n",
    "    }\n",
    ")\n",
    "\n",
    "graph.add_conditional_edges(\n",
    "    \"vectorstore\",\n",
    "        isRetRelevant,\n",
    "        {\n",
    "            \"to_generate\": \"generate\",\n",
    "            \"to_websearch\": \"websearch\"\n",
    "        }\n",
    ")\n",
    "\n",
    "graph.add_conditional_edges(\n",
    "    \"websearch\",\n",
    "        isRetRelevant,\n",
    "        {\n",
    "            \"to_generate\": \"generate\",\n",
    "            \"to_websearch\": \"websearch\"\n",
    "        }\n",
    ")\n",
    "\n",
    "graph.add_conditional_edges(\n",
    "    \"generate\",\n",
    "    has_hallucinations,\n",
    "    {\n",
    "        \"to_generate\":\"generate\",\n",
    "        \"to_websearch\": \"websearch\",\n",
    "        \"exit\": END\n",
    "    }\n",
    ")\n",
    "\n",
    "workflow = graph.compile()\n",
    "workflow"
   ]
  },
  {
   "cell_type": "code",
   "execution_count": 20,
   "id": "db4b2b92",
   "metadata": {},
   "outputs": [
    {
     "name": "stdout",
     "output_type": "stream",
     "text": [
      "web-search invoked!\n"
     ]
    },
    {
     "data": {
      "text/plain": [
       "{'question': 'Based on internet, what is the population of United States?',\n",
       " 'documents': [Document(metadata={}, page_content=\"Population of United States of America as of today. The current population of United States of America is 347,189,058 with an annual growth rate of 0.52%. United States of America has a population of 4.226% of the world's population. Population: 347,189,058: Growth Rate: 0.52%: Male: 174,453,237 (50.247%) Female:\"),\n",
       "  Document(metadata={}, page_content='Population Population select dateThe United States population on April 13, 2025 was: 341,614,159 Learn More | Download and Share | View Data Table Learn More | Download and Share | View Data Table Most Populous Population, 2024 Counties County Population, 2024 Population, 2023 New York city, NY Population, 2024 Counties County Population, 2024 New York County, NY Population, 2023 New York city, NY The U.S. population clock is based on a series of short-term projections for the resident population of the United States. Population estimates produced by the U.S. Census Bureau for the United States, states, metropolitan and micropolitan statistical areas, counties, cities, towns, as well as for Puerto Rico and its municipios can be found on the Population Estimates web page.')],\n",
       " 'generation': '347,189,058 (as of the context provided) or 341,614,159 (on April 13, 2025 according to the second document).'}"
      ]
     },
     "execution_count": 20,
     "metadata": {},
     "output_type": "execute_result"
    }
   ],
   "source": [
    "workflow.invoke({\"question\": \"Based on internet, what is the population of United States?\"})"
   ]
  },
  {
   "cell_type": "code",
   "execution_count": 21,
   "id": "5320fbf5",
   "metadata": {},
   "outputs": [
    {
     "name": "stdout",
     "output_type": "stream",
     "text": [
      "My parameters to the rescue, executing fallback!\n"
     ]
    },
    {
     "data": {
      "text/plain": [
       "{'question': 'What does RAM stand for in computers?',\n",
       " 'generation': ' Random Access Memory (RAM) stands for a type of computer memory that can be read from or written to in any order by the central processing unit (CPU). It is used as the main volatile memory in a computer system, providing fast access to data and instructions currently being processed by the CPU. RAM is essential for the operation of a computer because it allows the CPU to quickly retrieve and manipulate data without having to constantly access the slower secondary storage devices like hard drives or solid-state drives (SSDs).'}"
      ]
     },
     "execution_count": 21,
     "metadata": {},
     "output_type": "execute_result"
    }
   ],
   "source": [
    "workflow.invoke({\"question\": \"What does RAM stand for in computers?\"})"
   ]
  },
  {
   "cell_type": "code",
   "execution_count": null,
   "id": "ff07ae20",
   "metadata": {},
   "outputs": [],
   "source": []
  }
 ],
 "metadata": {
  "kernelspec": {
   "display_name": "Python 3",
   "language": "python",
   "name": "python3"
  },
  "language_info": {
   "codemirror_mode": {
    "name": "ipython",
    "version": 3
   },
   "file_extension": ".py",
   "mimetype": "text/x-python",
   "name": "python",
   "nbconvert_exporter": "python",
   "pygments_lexer": "ipython3",
   "version": "3.12.0"
  }
 },
 "nbformat": 4,
 "nbformat_minor": 5
}
